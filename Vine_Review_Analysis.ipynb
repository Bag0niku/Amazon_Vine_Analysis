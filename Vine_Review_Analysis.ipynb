{
 "cells": [
  {
   "cell_type": "markdown",
   "metadata": {
    "colab_type": "text",
    "id": "view-in-github"
   },
   "source": [
    "<a href=\"https://colab.research.google.com/github/Bag0niku/Amazon_Vine_Analysis/blob/main/Vine_Review_Analysis.ipynb\" target=\"_parent\"><img src=\"https://colab.research.google.com/assets/colab-badge.svg\" alt=\"Open In Colab\"/></a>"
   ]
  },
  {
   "cell_type": "markdown",
   "metadata": {
    "id": "RYfuipX04grY"
   },
   "source": [
    "# Environment Setup\n",
    "Install and import the dependencies needed to import and manipulate the data for Analysis."
   ]
  },
  {
   "cell_type": "code",
   "execution_count": 1,
   "metadata": {
    "colab": {
     "base_uri": "https://localhost:8080/"
    },
    "id": "Dj5ge-4BWZRf",
    "outputId": "c92a9684-c5cb-40b2-ee6e-83184c540548"
   },
   "outputs": [
    {
     "name": "stdout",
     "output_type": "stream",
     "text": [
      "\r",
      "0% [Working]\r",
      "            \r",
      "Get:1 http://security.ubuntu.com/ubuntu bionic-security InRelease [88.7 kB]\n",
      "\r",
      "0% [Waiting for headers] [1 InRelease 14.2 kB/88.7 kB 16%] [Connected to cloud.\r",
      "                                                                               \r",
      "Hit:2 http://ppa.launchpad.net/c2d4u.team/c2d4u4.0+/ubuntu bionic InRelease\n",
      "\r",
      "0% [Waiting for headers] [1 InRelease 88.7 kB/88.7 kB 100%] [Connected to cloud\r",
      "                                                                               \r",
      "Hit:3 http://archive.ubuntu.com/ubuntu bionic InRelease\n",
      "\r",
      "                                                                               \r",
      "Get:4 http://archive.ubuntu.com/ubuntu bionic-updates InRelease [88.7 kB]\n",
      "\r",
      "                                                                               \r",
      "Hit:5 http://ppa.launchpad.net/cran/libgit2/ubuntu bionic InRelease\n",
      "\r",
      "0% [4 InRelease 79.3 kB/88.7 kB 89%] [Connected to cloud.r-project.org (13.227.\r",
      "                                                                               \r",
      "Hit:6 https://cloud.r-project.org/bin/linux/ubuntu bionic-cran40/ InRelease\n",
      "\r",
      "0% [4 InRelease 88.7 kB/88.7 kB 100%] [Waiting for headers] [Connecting to ppa.\r",
      "0% [Waiting for headers] [Waiting for headers] [Connecting to ppa.launchpad.net\r",
      "0% [2 InRelease gpgv 15.9 kB] [Waiting for headers] [Waiting for headers] [Wait\r",
      "                                                                               \r",
      "Get:7 http://archive.ubuntu.com/ubuntu bionic-backports InRelease [83.3 kB]\n",
      "\r",
      "                                                                               \r",
      "Hit:8 http://ppa.launchpad.net/deadsnakes/ppa/ubuntu bionic InRelease\n",
      "Hit:9 http://ppa.launchpad.net/graphics-drivers/ppa/ubuntu bionic InRelease\n",
      "Ign:10 https://developer.download.nvidia.com/compute/machine-learning/repos/ubuntu1804/x86_64  InRelease\n",
      "Hit:11 https://developer.download.nvidia.com/compute/cuda/repos/ubuntu1804/x86_64  InRelease\n",
      "Hit:12 https://developer.download.nvidia.com/compute/machine-learning/repos/ubuntu1804/x86_64  Release\n",
      "Get:13 http://archive.ubuntu.com/ubuntu bionic-updates/main amd64 Packages [3,425 kB]\n",
      "Get:14 http://archive.ubuntu.com/ubuntu bionic-updates/universe amd64 Packages [2,324 kB]\n",
      "Fetched 6,009 kB in 4s (1,350 kB/s)\n",
      "Reading package lists... Done\n",
      "--2022-10-07 02:02:40--  https://jdbc.postgresql.org/download/postgresql-42.2.16.jar\n",
      "Resolving jdbc.postgresql.org (jdbc.postgresql.org)... 72.32.157.228, 2001:4800:3e1:1::228\n",
      "Connecting to jdbc.postgresql.org (jdbc.postgresql.org)|72.32.157.228|:443... connected.\n",
      "HTTP request sent, awaiting response... 200 OK\n",
      "Length: 1002883 (979K) [application/java-archive]\n",
      "Saving to: ‘postgresql-42.2.16.jar.1’\n",
      "\n",
      "postgresql-42.2.16. 100%[===================>] 979.38K  1.59MB/s    in 0.6s    \n",
      "\n",
      "2022-10-07 02:02:41 (1.59 MB/s) - ‘postgresql-42.2.16.jar.1’ saved [1002883/1002883]\n",
      "\n",
      "What is the database password?\n",
      "··········\n"
     ]
    }
   ],
   "source": [
    "# Install Spark and Java\n",
    "# Find the latest version of spark 3.0 from http://www.apache.org/dist/spark/ and enter as the spark version\n",
    "import os\n",
    "!apt-get update\n",
    "!apt-get install openjdk-11-jdk-headless -qq > /dev/null\n",
    "spark_version = 'spark-3.3.0'\n",
    "os.environ['SPARK_VERSION']=spark_version\n",
    "!wget -q http://www.apache.org/dist/spark/$SPARK_VERSION/$SPARK_VERSION-bin-hadoop3.tgz\n",
    "!tar xf $SPARK_VERSION-bin-hadoop3.tgz\n",
    "os.environ[\"JAVA_HOME\"] = \"/usr/lib/jvm/java-11-openjdk-amd64\"\n",
    "os.environ[\"SPARK_HOME\"] = f\"/content/{spark_version}-bin-hadoop3\"\n",
    "\n",
    "# the SQL database we wil be using is Postgres\n",
    "!wget https://jdbc.postgresql.org/download/postgresql-42.2.16.jar\n",
    "\n",
    "!pip install -q findspark # dependency to find the pyspark installation\n",
    "import findspark  \n",
    "findspark.init()  # initialize the search for pyspark\n",
    "\n",
    "# Import remaining dependencies\n",
    "from pyspark import SparkFiles\n",
    "from pyspark.sql import SparkSession\n",
    "import pyspark.sql\n",
    "from getpass import getpass\n",
    "\n",
    "# database password\n",
    "print(\"What is the database password?\")\n",
    "password = getpass()\n"
   ]
  },
  {
   "cell_type": "code",
   "execution_count": 2,
   "metadata": {
    "id": "QV6hGrXlWvTB"
   },
   "outputs": [],
   "source": [
    "# start Spark \n",
    "spark = SparkSession.builder.appName(\"AmazonReviews\").config(\"spark.driver.extraClassPath\",\"/content/postgresql-42.2.16.jar\").getOrCreate()\n",
    "\n",
    "# Configure settings for RDS\n",
    "mode = \"append\"\n",
    "jdbc_url=\"jdbc:postgresql://amazon-vine-analysis.comqyjfkggk2.us-west-2.rds.amazonaws.com:5432/postgres\"\n",
    "config = {\"user\":\"postgres\",\n",
    "          \"password\": password,\n",
    "          \"driver\":\"org.postgresql.Driver\"}\n"
   ]
  },
  {
   "cell_type": "markdown",
   "metadata": {
    "id": "q8SgZF65XI7X"
   },
   "source": [
    "# Deliverable 2: Determine Bias of Vine member reviews\n",
    "Is any bias towards paid reviews that were written as part of the Vine program?  "
   ]
  },
  {
   "cell_type": "code",
   "execution_count": 3,
   "metadata": {
    "colab": {
     "base_uri": "https://localhost:8080/"
    },
    "id": "z4Tyg7vjW-zE",
    "outputId": "17ca1ac3-c411-4bec-be3b-de139778bff0"
   },
   "outputs": [
    {
     "name": "stdout",
     "output_type": "stream",
     "text": [
      "+---------+\n",
      "|row_count|\n",
      "+---------+\n",
      "|  1785997|\n",
      "+---------+\n",
      "\n",
      "+--------------+-----------+-------------+-----------+----+-----------------+\n",
      "|     review_id|star_rating|helpful_votes|total_votes|vine|verified_purchase|\n",
      "+--------------+-----------+-------------+-----------+----+-----------------+\n",
      "|R12QUNRNIZPT5E|          1|            3|          4|   N|                Y|\n",
      "| RCQW57TVTB1Y0|          4|            0|          0|   N|                Y|\n",
      "|R29JGO9JQO83P4|          1|            0|          2|   N|                Y|\n",
      "|R3LKGEEFM2ZICN|          3|            1|          1|   N|                Y|\n",
      "| RMYHLWMHF5FJX|          4|            0|          0|   N|                N|\n",
      "| RPKHUN8LMZA57|          5|            0|          0|   N|                Y|\n",
      "| RH3MQLUMCGC8U|          4|            0|          0|   N|                Y|\n",
      "|R3EWF1W0LPO06T|          5|            0|          0|   N|                Y|\n",
      "|R31OOHO4IW5BBM|          3|            0|          0|   N|                Y|\n",
      "|R3TRQV8Q9EYYGV|          4|            0|          0|   N|                Y|\n",
      "+--------------+-----------+-------------+-----------+----+-----------------+\n",
      "only showing top 10 rows\n",
      "\n"
     ]
    }
   ],
   "source": [
    "# pull the vine table from the SQL database on AWS for this analysis\n",
    "vine_table = spark.read.jdbc(url=jdbc_url, table=\"vine_table\", properties=config)\n",
    "vine_table.createOrReplaceTempView(\"vine_table\")\n",
    "\n",
    "# display the row count and the first 10 rows\n",
    "spark.sql(\"SELECT COUNT(*) AS row_count FROM vine_table;\").show()\n",
    "vine_table.show(10)\n"
   ]
  },
  {
   "cell_type": "code",
   "execution_count": 4,
   "metadata": {
    "colab": {
     "base_uri": "https://localhost:8080/"
    },
    "id": "5-LZ4JIrYujg",
    "outputId": "6ea9fba5-871a-4ae9-f940-edad5e521481"
   },
   "outputs": [
    {
     "name": "stdout",
     "output_type": "stream",
     "text": [
      "+---------+\n",
      "|row_count|\n",
      "+---------+\n",
      "|  1785997|\n",
      "+---------+\n",
      "\n",
      "+--------------+-----------+----------+--------------+-----------+\n",
      "|     review_id|customer_id|product_id|product_parent|review_date|\n",
      "+--------------+-----------+----------+--------------+-----------+\n",
      "| RMNPN9O01CP4R|   15404454|B0085CA8NY|     536556164| 2014-10-24|\n",
      "| RL2KMRJV3POPV|   38780073|B002OL1KEI|     320413976| 2014-10-24|\n",
      "| RJ8XPG45SBLLV|   32924447|B00GXKV8S4|     441811350| 2014-10-24|\n",
      "| RA9P12Q1GW2F3|   13258963|B002I096Q4|      15859536| 2014-10-24|\n",
      "| RNQI9WLCSMI17|   14120968|B0050SYILE|     290750095| 2014-10-24|\n",
      "|R3OPW5AN28TW3M|   12650972|B00JKM09Z0|     173798294| 2014-10-24|\n",
      "|R3KE0ZDEMCEPV4|   32924447|B00ECOAX9I|     202522284| 2014-10-24|\n",
      "| R9GE34IN2TKCG|   10066660|B00GT8FUZC|      90147553| 2014-10-24|\n",
      "|R10L6DNHF9D0OV|   35837452|B00DHF3A4S|      39203705| 2014-10-24|\n",
      "|R312A29FX9YU7P|   18305278|B000FQ2DTA|     903003386| 2014-10-24|\n",
      "+--------------+-----------+----------+--------------+-----------+\n",
      "only showing top 10 rows\n",
      "\n"
     ]
    }
   ],
   "source": [
    "# import the review_id_table to join the analysis\n",
    "review_id_table = spark.read.jdbc(url=jdbc_url, table=\"review_id_table\", properties=config)\n",
    "review_id_table.createOrReplaceTempView(\"review_id_table\")\n",
    "\n",
    "# display the row count and the first 10 rows\n",
    "spark.sql(\"SELECT COUNT(*) AS row_count FROM review_id_table;\").show()\n",
    "review_id_table.show(10)"
   ]
  },
  {
   "cell_type": "code",
   "execution_count": 6,
   "metadata": {
    "colab": {
     "base_uri": "https://localhost:8080/"
    },
    "id": "gj7MOSlZY4K2",
    "outputId": "fb57039f-590f-4731-ae0f-85eb7219fce0"
   },
   "outputs": [
    {
     "name": "stdout",
     "output_type": "stream",
     "text": [
      "+---------+\n",
      "|row_count|\n",
      "+---------+\n",
      "|  1785997|\n",
      "+---------+\n",
      "\n",
      "+--------------+-----------+-------------+-----------+----+-----------------+----------+\n",
      "|     review_id|star_rating|helpful_votes|total_votes|vine|verified_purchase|product_id|\n",
      "+--------------+-----------+-------------+-----------+----+-----------------+----------+\n",
      "|R10003I619LWL0|          5|            1|          1|   N|                N|B001REZLY8|\n",
      "|R100078OO83YQB|          5|            0|          0|   N|                N|B0016HM45K|\n",
      "|R10009XH2FY9Q0|          5|            4|          4|   N|                N|B00000IOQV|\n",
      "|R1000EJULTHQ16|          5|            0|          0|   N|                N|B002I0H7K6|\n",
      "|R1000GECIM9DZG|          5|            0|          0|   N|                Y|B006SVUQNQ|\n",
      "|R1000ID99V4TKO|          5|            0|          0|   N|                N|B00KY1HZ80|\n",
      "|R1000U9GM6NPGS|          5|            0|          0|   N|                Y|B00DUJKIO6|\n",
      "|R1000WZPINB01L|          4|            0|          0|   N|                Y|B0041HROGG|\n",
      "|R1000XAVJH7WUV|          3|            6|          9|   N|                N|B000087L4G|\n",
      "|R1000YD5XB0Q9H|          3|            0|          1|   N|                Y|B0093FO2TS|\n",
      "+--------------+-----------+-------------+-----------+----+-----------------+----------+\n",
      "only showing top 10 rows\n",
      "\n"
     ]
    }
   ],
   "source": [
    "# join the review_id table and the vine_table for viewing the impact of paid reviews on products\n",
    "products_reviews_table = spark.sql(\"\"\"SELECT vine.*, review.product_id\n",
    "             FROM vine_table AS vine\n",
    "             JOIN review_id_table AS review ON review.review_id == vine.review_id;\"\"\")\n",
    "products_reviews_table.createOrReplaceTempView(\"products_reviews_table\")\n",
    "\n",
    "# display the row count and the first 10 rows\n",
    "spark.sql(\"SELECT COUNT(*) AS row_count FROM products_reviews_table;\").show()\n",
    "products_reviews_table.show(10)"
   ]
  },
  {
   "cell_type": "code",
   "execution_count": 16,
   "metadata": {
    "colab": {
     "base_uri": "https://localhost:8080/"
    },
    "id": "TR1Xs844Xb6G",
    "outputId": "7eac3d55-18da-4c80-ca89-206e14043b54"
   },
   "outputs": [
    {
     "name": "stdout",
     "output_type": "stream",
     "text": [
      "+---------+\n",
      "|row_count|\n",
      "+---------+\n",
      "|    65379|\n",
      "+---------+\n",
      "\n",
      "+--------------+-----------+-------------+-----------+----+-----------------+----------+\n",
      "|     review_id|star_rating|helpful_votes|total_votes|vine|verified_purchase|product_id|\n",
      "+--------------+-----------+-------------+-----------+----+-----------------+----------+\n",
      "|R2RQBEFRD5W6HP|          1|           10|         24|   N|                Y|B00CJXYTGM|\n",
      "|R2MT86YP52BQ4N|          1|            8|         20|   N|                N|B00BGA9WK2|\n",
      "|R3EFO5L1DNBXXB|          1|           16|         22|   N|                N|B00BGA9Y3W|\n",
      "|R1IMG9MN73019I|          5|           55|         72|   N|                N|B00DHF39HQ|\n",
      "| RIUS6OCG18T5J|          1|            3|         41|   N|                N|B002I096Q4|\n",
      "|R2Y5IU07L3YSC8|          1|            7|         48|   N|                N|B00DHF39HQ|\n",
      "|R3HYYDI3RWONZI|          1|            6|         28|   N|                N|B00TS0UTAY|\n",
      "|R3G4E4WCZ34G6A|          1|            4|         30|   N|                N|B00S8IGG4U|\n",
      "|R1AYAL8OR1RXT9|          5|           33|         37|   N|                Y|B00KSY5486|\n",
      "|R3AG1EEH1SP6XH|          1|           10|         24|   N|                N|B00VM27UVW|\n",
      "+--------------+-----------+-------------+-----------+----+-----------------+----------+\n",
      "only showing top 10 rows\n",
      "\n"
     ]
    }
   ],
   "source": [
    "# create a table with products that have enough votes to run an analysis.\n",
    "# a minimum 20 total votes for any review.\n",
    "usable_vine_table = spark.sql(\"SELECT * FROM products_reviews_table WHERE total_votes > 19;\")\n",
    "usable_vine_table.createOrReplaceTempView(\"usable_vine_table\")\n",
    "\n",
    "# display the row count and the first 10 rows\n",
    "spark.sql(\"SELECT COUNT(*) AS row_count FROM usable_vine_table;\").show()\n",
    "usable_vine_table.show(10)"
   ]
  },
  {
   "cell_type": "code",
   "execution_count": 17,
   "metadata": {
    "colab": {
     "base_uri": "https://localhost:8080/"
    },
    "id": "nr-e8AcvXieB",
    "outputId": "ba4da86b-570d-4467-dfc8-b259c264842a"
   },
   "outputs": [
    {
     "name": "stdout",
     "output_type": "stream",
     "text": [
      "+---------+\n",
      "|row_count|\n",
      "+---------+\n",
      "|    40565|\n",
      "+---------+\n",
      "\n",
      "+--------------+-----------+-------------+-----------+----+-----------------+----------+\n",
      "|     review_id|star_rating|helpful_votes|total_votes|vine|verified_purchase|product_id|\n",
      "+--------------+-----------+-------------+-----------+----+-----------------+----------+\n",
      "|R3EFO5L1DNBXXB|          1|           16|         22|   N|                N|B00BGA9Y3W|\n",
      "|R1IMG9MN73019I|          5|           55|         72|   N|                N|B00DHF39HQ|\n",
      "|R1AYAL8OR1RXT9|          5|           33|         37|   N|                Y|B00KSY5486|\n",
      "| R4759EBMM5S30|          1|           19|         34|   N|                N|B00CX8VY4S|\n",
      "|R3865R90FXCLT1|          1|          192|        233|   N|                Y|B00EM5UFEK|\n",
      "|R3K0D1MAF71A3Z|          2|           14|         22|   N|                Y|B00DBLBMBQ|\n",
      "|R2JDVD6YCNSWNB|          2|           30|         36|   N|                Y|B003NSLGW2|\n",
      "|R1GQ534F21DRP0|          1|           12|         22|   N|                Y|B00CMQTVUA|\n",
      "|R1JAFKSFPTFC1X|          3|           83|        109|   N|                N|B00HKCIT0O|\n",
      "|R3B6V5JY8LTG7T|          1|          359|        439|   N|                N|B00HKCIT0O|\n",
      "+--------------+-----------+-------------+-----------+----+-----------------+----------+\n",
      "only showing top 10 rows\n",
      "\n"
     ]
    }
   ],
   "source": [
    "# filter usable_vine_table for where helpful votes is atleast 50% of the total votes\n",
    "helpful_votes_table = spark.sql(\"SELECT * FROM usable_vine_table WHERE ((helpful_votes/total_votes) >= 0.5);\")\n",
    "helpful_votes_table.createOrReplaceTempView(\"helpful_votes_table\")\n",
    "\n",
    "# display the row count and the first 10 rows\n",
    "spark.sql(\"select count(*) as row_count from helpful_votes_table;\").show()\n",
    "helpful_votes_table.show(10)"
   ]
  },
  {
   "cell_type": "code",
   "execution_count": 30,
   "metadata": {
    "colab": {
     "base_uri": "https://localhost:8080/"
    },
    "id": "395jtG0_YTjO",
    "outputId": "8eeb7c5a-d8f2-4dc4-e3e5-ce9b162af01f"
   },
   "outputs": [
    {
     "name": "stdout",
     "output_type": "stream",
     "text": [
      "+---------+\n",
      "|row_count|\n",
      "+---------+\n",
      "|      104|\n",
      "+---------+\n",
      "\n",
      "+--------------+-----------+-------------+-----------+----+-----------------+----------+\n",
      "|     review_id|star_rating|helpful_votes|total_votes|vine|verified_purchase|product_id|\n",
      "+--------------+-----------+-------------+-----------+----+-----------------+----------+\n",
      "| R61QRS16PUHET|          5|           38|         41|   Y|                N|B0058SHMXM|\n",
      "|R24PS9N276OXF4|          5|          241|        262|   Y|                N|B00KSQAACO|\n",
      "|R1JRR530H4COA2|          5|           22|         28|   Y|                N|B00O9GVKZU|\n",
      "|R3NGUZ07DTUUSY|          3|           53|         62|   Y|                N|B008J16AG0|\n",
      "|R2GYO7WKCP4TOM|          3|           18|         25|   Y|                N|B0086V5V9A|\n",
      "|R15ARADYJE29FK|          3|           33|         36|   Y|                N|B0072A4GQK|\n",
      "| R4AMWJFZ9W2LN|          4|            6|         33|   Y|                N|B0086V5V8G|\n",
      "| R8YT75NJW0CM9|          4|           37|         40|   Y|                N|B000ME25P2|\n",
      "|R21FBBKI5J2BOP|          2|            0|         39|   Y|                N|B005JVKAY6|\n",
      "|R1O83O7BRYQ7KN|          5|           29|         31|   Y|                N|B004DPSBJU|\n",
      "|R1QTD3QXCKGOG0|          5|           34|         34|   Y|                N|B002FC6TCE|\n",
      "| RF41VQVEOQ4DV|          5|           17|         22|   Y|                N|B005NH6NMY|\n",
      "|R11O4YSCPSNL6L|          3|           20|         26|   Y|                N|B00MNPDMEQ|\n",
      "|R29NYQS1ZI0S9M|          2|           38|         45|   Y|                N|B0050SVGMS|\n",
      "| RNRUIQVK27RDZ|          3|           17|         25|   Y|                N|B00D6PTMB4|\n",
      "|R3EPHK0JGQGE91|          5|           21|         28|   Y|                N|B00NHV0XV0|\n",
      "| RQ5WD90PUNBU9|          5|           21|         24|   Y|                N|B00Q5JD2DM|\n",
      "| RNU8PK609WT6P|          4|          347|        362|   Y|                N|B0015HYPOO|\n",
      "|R2KNP2O2HPXWJ3|          3|           16|         41|   Y|                N|B0086V5V9A|\n",
      "|R18ZPXBNV1SMSH|          4|           84|        102|   Y|                N|B005M0KSIM|\n",
      "|R21XZ4106KY38X|          3|           45|         58|   Y|                N|B004S5TDL0|\n",
      "|R34V427QP1YKW6|          4|           68|         73|   Y|                N|B006W41W82|\n",
      "|R18YQ4NRL2373C|          3|            2|         28|   Y|                N|B00U33Q940|\n",
      "| RAJUF4C24770F|          3|           89|        110|   Y|                N|B0088I8M10|\n",
      "|R2VKXE5N2C894W|          4|           35|         37|   Y|                N|B001NTBWK4|\n",
      "|R2UB214GH2M6LV|          5|          321|        340|   Y|                N|B00BDS415I|\n",
      "| RKKMH184GEHKD|          5|           19|         23|   Y|                N|B00D6PTMB4|\n",
      "|R1F6Q0N6CMCL9P|          4|           66|         71|   Y|                N|B0038MUCPK|\n",
      "|R32E08LN5RWBFO|          5|           66|         88|   Y|                N|B0087OZ5FG|\n",
      "|R26T1V8WQC1Y04|          5|           57|         61|   Y|                N|B004G5TUJM|\n",
      "+--------------+-----------+-------------+-----------+----+-----------------+----------+\n",
      "only showing top 30 rows\n",
      "\n"
     ]
    }
   ],
   "source": [
    "# filter usable_vine_reviews for only vine member reviews\n",
    "vine_reviews_table = spark.sql(\"SELECT * FROM usable_vine_table WHERE vine == 'Y' ;\")\n",
    "vine_reviews_table.createOrReplaceTempView(\"vine_reviews_table\")\n",
    "\n",
    "# display the row count and the first 10 rows\n",
    "spark.sql(\"SELECT COUNT(*) AS row_count FROM vine_reviews_table;\").show()\n",
    "vine_reviews_table.show(30)"
   ]
  },
  {
   "cell_type": "code",
   "execution_count": 31,
   "metadata": {
    "colab": {
     "base_uri": "https://localhost:8080/"
    },
    "id": "_SWBelKCYcF1",
    "outputId": "27bb9830-7b25-4bab-d86b-1291ed2abbf1"
   },
   "outputs": [
    {
     "name": "stdout",
     "output_type": "stream",
     "text": [
      "+---------+\n",
      "|row_count|\n",
      "+---------+\n",
      "|    65275|\n",
      "+---------+\n",
      "\n",
      "+--------------+-----------+-------------+-----------+----+-----------------+----------+\n",
      "|     review_id|star_rating|helpful_votes|total_votes|vine|verified_purchase|product_id|\n",
      "+--------------+-----------+-------------+-----------+----+-----------------+----------+\n",
      "|R3HYYDI3RWONZI|          1|            6|         28|   N|                N|B00TS0UTAY|\n",
      "|R3G4E4WCZ34G6A|          1|            4|         30|   N|                N|B00S8IGG4U|\n",
      "|R1AYAL8OR1RXT9|          5|           33|         37|   N|                Y|B00KSY5486|\n",
      "|R3AG1EEH1SP6XH|          1|           10|         24|   N|                N|B00VM27UVW|\n",
      "| R3EF736S5J90L|          1|            8|         29|   N|                N|B00KWG4HG0|\n",
      "| R4759EBMM5S30|          1|           19|         34|   N|                N|B00CX8VY4S|\n",
      "|R3865R90FXCLT1|          1|          192|        233|   N|                Y|B00EM5UFEK|\n",
      "|R3K0D1MAF71A3Z|          2|           14|         22|   N|                Y|B00DBLBMBQ|\n",
      "|R2JDVD6YCNSWNB|          2|           30|         36|   N|                Y|B003NSLGW2|\n",
      "|R1GQ534F21DRP0|          1|           12|         22|   N|                Y|B00CMQTVUA|\n",
      "|R36DJD6L8BNCPN|          1|            6|         21|   N|                Y|B00BGA9WK2|\n",
      "|R1JAFKSFPTFC1X|          3|           83|        109|   N|                N|B00HKCIT0O|\n",
      "|R3B6V5JY8LTG7T|          1|          359|        439|   N|                N|B00HKCIT0O|\n",
      "|R2XWERCXF0MEXT|          2|           12|         20|   N|                Y|B00EM5UFEK|\n",
      "| RWPU4TNRC1LXH|          4|           22|         27|   N|                Y|B00946FSIA|\n",
      "|R1FU04B4KZP6KW|          1|            1|         29|   N|                Y|B00BGA9YZK|\n",
      "|R1JQ5BZ5L91VRQ|          3|           33|         42|   N|                N|B00NFXON1Q|\n",
      "| R41SAZRYITQSI|          1|           36|         37|   N|                N|B00HM44LFC|\n",
      "|R25V4GYUIYG895|          5|            2|         40|   N|                N|0784930724|\n",
      "|R32GLGLDGLGBW8|          5|           18|         27|   N|                Y|B00EEMLDZG|\n",
      "| RTSKLHV0NS4OR|          5|           39|         50|   N|                Y|B00E369SDM|\n",
      "|R13XQLZ8Y6GOW2|          1|           44|         59|   N|                N|B00NTDL4FU|\n",
      "|R2C6GWOXDSLPUJ|          5|           23|         23|   N|                N|B00NJ07F6K|\n",
      "| RFJ3U8L3LEB5J|          1|           17|         50|   N|                N|B00CMQTVUA|\n",
      "|R3CDSIJWA54CRS|          1|            1|         21|   N|                Y|B00E8JZILA|\n",
      "|  RKU7AY4H6UHW|          1|           10|         22|   N|                N|B00BGA9WK2|\n",
      "|R3NCMME8952NY5|          5|           14|         27|   N|                Y|B00BGA9WK2|\n",
      "|R13CSC5L4YMLJW|          5|           48|         56|   N|                Y|B00CMQTUSS|\n",
      "|R3ASMEFSL9XFWE|          1|            6|         75|   N|                N|B00BGA9WK2|\n",
      "| R4PZ8ZDPG3GLS|          5|           16|         29|   N|                N|B00CMQTVK0|\n",
      "+--------------+-----------+-------------+-----------+----+-----------------+----------+\n",
      "only showing top 30 rows\n",
      "\n"
     ]
    }
   ],
   "source": [
    "# filter usable reviews for only non-vine member reviews\n",
    "not_member_reviews_table = spark.sql(\"SELECT * FROM usable_vine_table WHERE vine =='N';\")\n",
    "not_member_reviews_table.createOrReplaceTempView(\"not_member_reviews_table\")\n",
    "spark.sql(\"SELECT COUNT(*) AS row_count FROM not_member_reviews_table;\").show()\n",
    "not_member_reviews_table.show(30)"
   ]
  },
  {
   "cell_type": "markdown",
   "metadata": {
    "id": "8nEWPnbJYpll"
   },
   "source": [
    "# Summary Tables: \n",
    "Below are the summary tables created from the categorized data above."
   ]
  },
  {
   "cell_type": "code",
   "execution_count": 26,
   "metadata": {
    "colab": {
     "base_uri": "https://localhost:8080/"
    },
    "id": "by-Im_ezYkF2",
    "outputId": "18d0516b-5353-4a79-96ad-af7927a0a4dc"
   },
   "outputs": [
    {
     "name": "stdout",
     "output_type": "stream",
     "text": [
      "+-------------+--------------------+-----------------+-------------------+---------------------+-----------------------+\n",
      "|total_reviews|total_5_star_reviews|vine_total_5_star|vine_percent_5_star|not_vine_total_5_star|not_vine_percent_5_star|\n",
      "+-------------+--------------------+-----------------+-------------------+---------------------+-----------------------+\n",
      "|      1785997|             1026924|             1607|               0.16|              1025317|                  99.84|\n",
      "+-------------+--------------------+-----------------+-------------------+---------------------+-----------------------+\n",
      "\n"
     ]
    }
   ],
   "source": [
    "# total summary table\n",
    "spark.sql(\"\"\"SELECT (SELECT COUNT(*) FROM products_reviews_table) AS total_reviews, \n",
    "                    (SELECT COUNT(*) FROM products_reviews_table WHERE star_rating == 5) AS total_5_star_reviews,\n",
    "                    (SELECT COUNT(*) FROM products_reviews_table WHERE (star_rating == 5) AND (vine == 'Y')) AS vine_total_5_star,\n",
    "                    ROUND(((SELECT COUNT(*) FROM products_reviews_table WHERE (star_rating == 5) AND (vine == 'Y'))/(SELECT COUNT(*) FROM products_reviews_table WHERE star_rating == 5))*100,2 ) AS vine_percent_5_star,\n",
    "                    (SELECT COUNT(*) FROM products_reviews_table WHERE (star_rating == 5) AND (vine == 'N')) AS not_vine_total_5_star,\n",
    "                    ROUND(((SELECT COUNT(*) FROM products_reviews_table WHERE (star_rating == 5) AND (vine == 'N'))/(SELECT COUNT(*) FROM products_reviews_table WHERE star_rating == 5))*100, 2) AS not_vine_percent_5_star;\"\"\").show()\n"
   ]
  },
  {
   "cell_type": "code",
   "execution_count": 20,
   "metadata": {
    "colab": {
     "base_uri": "https://localhost:8080/"
    },
    "id": "q6gF2nCyYfTX",
    "outputId": "83b9aeaf-8898-402a-df03-930cb4324d5e"
   },
   "outputs": [
    {
     "name": "stdout",
     "output_type": "stream",
     "text": [
      "+--------------+---------------------------+------------------------+-------------------+----------------------------+-----------------------+\n",
      "|usable_reviews|total_usable_5_star_reviews|vine_total_usable_5_star|vine_percent_5_star|not_vine_total_usable_5_star|not_vine_percent_5_star|\n",
      "+--------------+---------------------------+------------------------+-------------------+----------------------------+-----------------------+\n",
      "|         65379|                      20487|                      48|               0.23|                       20439|                  99.77|\n",
      "+--------------+---------------------------+------------------------+-------------------+----------------------------+-----------------------+\n",
      "\n"
     ]
    }
   ],
   "source": [
    "# usable reviews summary table\n",
    "spark.sql(\"\"\"SELECT (SELECT COUNT(*) FROM usable_vine_table) AS usable_reviews, \n",
    "                    (SELECT COUNT(*) FROM usable_vine_table WHERE star_rating == 5) AS total_usable_5_star_reviews,\n",
    "                    (SELECT COUNT(*) FROM vine_reviews_table WHERE (star_rating == 5)) AS vine_total_usable_5_star,\n",
    "                    ROUND(((SELECT COUNT(*) FROM vine_reviews_table WHERE (star_rating == 5))/(SELECT COUNT(*) FROM usable_vine_table WHERE star_rating == 5))*100, 2) AS vine_percent_5_star,\n",
    "                    (SELECT COUNT(*) FROM not_member_reviews_table WHERE (star_rating == 5)) AS not_vine_total_usable_5_star,\n",
    "                    ROUND(((SELECT COUNT(*) FROM not_member_reviews_table WHERE (star_rating == 5))/(SELECT COUNT(*) FROM usable_vine_table WHERE (star_rating == 5)))*100, 2) AS not_vine_percent_5_star;\"\"\").show()"
   ]
  },
  {
   "cell_type": "code",
   "execution_count": 23,
   "metadata": {
    "colab": {
     "base_uri": "https://localhost:8080/"
    },
    "id": "h1xQXmz2hNjN",
    "outputId": "11576831-51f9-4edc-cd02-06a04a993904"
   },
   "outputs": [
    {
     "name": "stdout",
     "output_type": "stream",
     "text": [
      "+---------------------+------------------+-----------------------+-------------------------+\n",
      "|count_helpful_reviews|vine_count_helpful|vine_count_very_helpful|vine_count_helpful_5_star|\n",
      "+---------------------+------------------+-----------------------+-------------------------+\n",
      "|               698326|               102|                     94|                       48|\n",
      "+---------------------+------------------+-----------------------+-------------------------+\n",
      "\n"
     ]
    }
   ],
   "source": [
    "# summary table of vine member reviews that recieved atleast 1 helpful vote and very helpful > = 50%+ helpful/total\n",
    "spark.sql(\"\"\"SELECT (SELECT COUNT(*) FROM products_reviews_table WHERE helpful_votes >0) AS count_helpful_reviews,\n",
    "                    (SELECT COUNT(*) FROM vine_reviews_table WHERE (helpful_votes > 0)) AS vine_count_helpful, \n",
    "                    (SELECT COUNT(*) FROM vine_reviews_table WHERE (helpful_votes >0) AND (helpful_votes/total_votes >= 0.5)) AS vine_count_very_helpful,\n",
    "                    (SELECT COUNT(*) FROM vine_reviews_table WHERE (helpful_votes >0) AND (star_rating == 5)) AS vine_count_helpful_5_star;\"\"\").show()"
   ]
  },
  {
   "cell_type": "code",
   "execution_count": 27,
   "metadata": {
    "colab": {
     "base_uri": "https://localhost:8080/"
    },
    "id": "Aw34_NdXiV69",
    "outputId": "e5d37b49-d77f-427b-9775-06cd9b4888dc"
   },
   "outputs": [
    {
     "name": "stdout",
     "output_type": "stream",
     "text": [
      "+---------------------+----------------------+---------------------------+-----------------------------+\n",
      "|count_helpful_reviews|not_vine_count_helpful|not_vine_count_very_helpful|not_vine_count_helpful_5_star|\n",
      "+---------------------+----------------------+---------------------------+-----------------------------+\n",
      "|               698326|                 64008|                      40471|                        20282|\n",
      "+---------------------+----------------------+---------------------------+-----------------------------+\n",
      "\n"
     ]
    }
   ],
   "source": [
    "# summary table of not vine member reviews that recieved atleast 1 helpful vote and very helpful > = 50%+ helpful/total\n",
    "spark.sql(\"\"\"SELECT (SELECT COUNT(*) FROM products_reviews_table WHERE helpful_votes >0) AS count_helpful_reviews,\n",
    "                    (SELECT COUNT(*) FROM not_member_reviews_table WHERE (helpful_votes > 0)) AS not_vine_count_helpful,\n",
    "                    (SELECT COUNT(*) FROM not_member_reviews_table WHERE (helpful_votes >0) AND (helpful_votes/total_votes >= 0.5)) AS not_vine_count_very_helpful,\n",
    "                    (SELECT COUNT(*) FROM not_member_reviews_table WHERE (helpful_votes >0) AND (star_rating == 5)) AS not_vine_count_helpful_5_star;\"\"\").show()"
   ]
  },
  {
   "cell_type": "code",
   "execution_count": 29,
   "metadata": {
    "colab": {
     "base_uri": "https://localhost:8080/"
    },
    "id": "jQrQKnpBJ0sM",
    "outputId": "560a3839-5805-4d69-bb8d-80b76e90f60f"
   },
   "outputs": [
    {
     "name": "stdout",
     "output_type": "stream",
     "text": [
      "+-----------------------------+-------------------------------+--------------------------+\n",
      "|products_without_vine_reviews|products_with_only_vine_reviews|products_with_both_reviews|\n",
      "+-----------------------------+-------------------------------+--------------------------+\n",
      "|                        14249|                             19|                        51|\n",
      "+-----------------------------+-------------------------------+--------------------------+\n",
      "\n"
     ]
    }
   ],
   "source": [
    "# summary table counting distinct products with reviews not reviewed by opposite category vine or not vine\n",
    "spark.sql(\"\"\"SELECT (SELECT COUNT(DISTINCT(product_id)) FROM not_member_reviews_table WHERE product_id not in (SELECT product_id FROM vine_reviews_table)) AS products_without_vine_reviews,\n",
    "                    (SELECT COUNT(DISTINCT(product_id)) FROM VINE_reviews_table WHERE product_id not in (SELECT product_id FROM not_member_reviews_table)) AS products_with_only_vine_reviews,\n",
    "                    (SELECT COUNT(DISTINCT(product_id)) FROM VINE_reviews_table WHERE product_id in (SELECT product_id FROM not_member_reviews_table)) AS products_with_both_reviews;\"\"\").show()"
   ]
  },
  {
   "cell_type": "markdown",
   "metadata": {
    "id": "Pcnll2_Jfqw2"
   },
   "source": [
    "# Results: Paid vs Unpaid\n",
    "\n",
    "- There are significantly more reviews by non-vine members than reviews by vine members.  \n",
    "- Of the 14319 products in the dataset\n",
    "    - 14249 products have no paid reviews\n",
    "    - 19 products have only paid reviews\n",
    "    - 51 products have reviews from both categories.\n",
    "\n",
    " - 1785997 reviews in total\n",
    "     - 1026924 of those reviews are 5 stars: 99.84% are unpaid,  0.16% are paid\n",
    "     - 69k+ reviews were voted helpful, heavily favoring the unpaid reviews (99%+)\n",
    "\n",
    "\n",
    "There is no bias towards paid reviews.\n"
   ]
  },
  {
   "cell_type": "code",
   "execution_count": 15,
   "metadata": {
    "id": "A-yT9k8QLRIr"
   },
   "outputs": [],
   "source": []
  }
 ],
 "metadata": {
  "colab": {
   "authorship_tag": "ABX9TyNcJAFDCxoInQDEp2wCsYko",
   "collapsed_sections": [],
   "include_colab_link": true,
   "provenance": []
  },
  "kernelspec": {
   "display_name": "Python 3 (ipykernel)",
   "language": "python",
   "name": "python3"
  },
  "language_info": {
   "codemirror_mode": {
    "name": "ipython",
    "version": 3
   },
   "file_extension": ".py",
   "mimetype": "text/x-python",
   "name": "python",
   "nbconvert_exporter": "python",
   "pygments_lexer": "ipython3",
   "version": "3.9.12"
  }
 },
 "nbformat": 4,
 "nbformat_minor": 1
}
