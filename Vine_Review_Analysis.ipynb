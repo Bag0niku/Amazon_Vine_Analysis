{
  "nbformat": 4,
  "nbformat_minor": 0,
  "metadata": {
    "colab": {
      "provenance": [],
      "authorship_tag": "ABX9TyO4bQZKjLwpgqly3+jUHA7k",
      "include_colab_link": true
    },
    "kernelspec": {
      "name": "python3",
      "display_name": "Python 3"
    },
    "language_info": {
      "name": "python"
    }
  },
  "cells": [
    {
      "cell_type": "markdown",
      "metadata": {
        "id": "view-in-github",
        "colab_type": "text"
      },
      "source": [
        "<a href=\"https://colab.research.google.com/github/Bag0niku/Amazon_Vine_Analysis/blob/main/Vine_Review_Analysis.ipynb\" target=\"_parent\"><img src=\"https://colab.research.google.com/assets/colab-badge.svg\" alt=\"Open In Colab\"/></a>"
      ]
    },
    {
      "cell_type": "code",
      "execution_count": null,
      "metadata": {
        "colab": {
          "base_uri": "https://localhost:8080/"
        },
        "id": "Dj5ge-4BWZRf",
        "outputId": "d18cb4fc-3c69-44cb-a61b-5f5e9b81372a"
      },
      "outputs": [
        {
          "output_type": "stream",
          "name": "stdout",
          "text": [
            "Get:1 https://cloud.r-project.org/bin/linux/ubuntu bionic-cran40/ InRelease [3,626 B]\n",
            "Get:2 http://ppa.launchpad.net/c2d4u.team/c2d4u4.0+/ubuntu bionic InRelease [15.9 kB]\n",
            "Get:3 http://security.ubuntu.com/ubuntu bionic-security InRelease [88.7 kB]\n",
            "Ign:4 https://developer.download.nvidia.com/compute/machine-learning/repos/ubuntu1804/x86_64  InRelease\n",
            "Get:5 https://developer.download.nvidia.com/compute/cuda/repos/ubuntu1804/x86_64  InRelease [1,581 B]\n",
            "Hit:6 https://developer.download.nvidia.com/compute/machine-learning/repos/ubuntu1804/x86_64  Release\n",
            "Hit:7 http://archive.ubuntu.com/ubuntu bionic InRelease\n",
            "Get:8 https://developer.download.nvidia.com/compute/cuda/repos/ubuntu1804/x86_64  Packages [948 kB]\n",
            "Get:9 http://archive.ubuntu.com/ubuntu bionic-updates InRelease [88.7 kB]\n",
            "Hit:11 http://ppa.launchpad.net/cran/libgit2/ubuntu bionic InRelease\n",
            "Hit:12 http://ppa.launchpad.net/deadsnakes/ppa/ubuntu bionic InRelease\n",
            "Get:13 http://archive.ubuntu.com/ubuntu bionic-backports InRelease [83.3 kB]\n",
            "Get:14 http://security.ubuntu.com/ubuntu bionic-security/restricted amd64 Packages [1,163 kB]\n",
            "Get:15 http://ppa.launchpad.net/graphics-drivers/ppa/ubuntu bionic InRelease [21.3 kB]\n",
            "Get:16 http://archive.ubuntu.com/ubuntu bionic-updates/main amd64 Packages [3,425 kB]\n",
            "Get:17 http://ppa.launchpad.net/c2d4u.team/c2d4u4.0+/ubuntu bionic/main Sources [2,163 kB]\n",
            "Get:18 http://security.ubuntu.com/ubuntu bionic-security/main amd64 Packages [2,992 kB]\n",
            "Get:19 http://security.ubuntu.com/ubuntu bionic-security/universe amd64 Packages [1,546 kB]\n",
            "Get:20 http://archive.ubuntu.com/ubuntu bionic-updates/universe amd64 Packages [2,324 kB]\n",
            "Get:21 http://archive.ubuntu.com/ubuntu bionic-updates/restricted amd64 Packages [1,204 kB]\n",
            "Get:22 http://ppa.launchpad.net/c2d4u.team/c2d4u4.0+/ubuntu bionic/main amd64 Packages [1,108 kB]\n",
            "Get:23 http://ppa.launchpad.net/graphics-drivers/ppa/ubuntu bionic/main amd64 Packages [48.3 kB]\n",
            "Fetched 17.2 MB in 7s (2,469 kB/s)\n",
            "Reading package lists... Done\n",
            "--2022-10-06 01:22:18--  https://jdbc.postgresql.org/download/postgresql-42.2.16.jar\n",
            "Resolving jdbc.postgresql.org (jdbc.postgresql.org)... 72.32.157.228, 2001:4800:3e1:1::228\n",
            "Connecting to jdbc.postgresql.org (jdbc.postgresql.org)|72.32.157.228|:443... connected.\n",
            "HTTP request sent, awaiting response... 200 OK\n",
            "Length: 1002883 (979K) [application/java-archive]\n",
            "Saving to: ‘postgresql-42.2.16.jar’\n",
            "\n",
            "postgresql-42.2.16. 100%[===================>] 979.38K  1.18MB/s    in 0.8s    \n",
            "\n",
            "2022-10-06 01:22:20 (1.18 MB/s) - ‘postgresql-42.2.16.jar’ saved [1002883/1002883]\n",
            "\n"
          ]
        }
      ],
      "source": [
        "# Install Spark and Java\n",
        "# Find the latest version of spark 3.0 from http://www.apache.org/dist/spark/ and enter as the spark version\n",
        "import os\n",
        "!apt-get update\n",
        "!apt-get install openjdk-11-jdk-headless -qq > /dev/null\n",
        "spark_version = 'spark-3.3.0'\n",
        "os.environ['SPARK_VERSION']=spark_version\n",
        "!wget -q http://www.apache.org/dist/spark/$SPARK_VERSION/$SPARK_VERSION-bin-hadoop3.tgz\n",
        "!tar xf $SPARK_VERSION-bin-hadoop3.tgz\n",
        "os.environ[\"JAVA_HOME\"] = \"/usr/lib/jvm/java-11-openjdk-amd64\"\n",
        "os.environ[\"SPARK_HOME\"] = f\"/content/{spark_version}-bin-hadoop3\"\n",
        "\n",
        "# the SQL database we wil be using is Postgres\n",
        "!wget https://jdbc.postgresql.org/download/postgresql-42.2.16.jar\n",
        "\n",
        "!pip install -q findspark # dependency to find the pyspark installation\n",
        "import findspark  \n",
        "findspark.init()  # initialize the search for pyspark\n",
        "\n",
        "# Import remaining dependencies\n",
        "from pyspark import SparkFiles\n",
        "from pyspark.sql import SparkSession\n",
        "import pyspark.sql\n",
        "from getpass import getpass\n",
        "\n",
        "# database password\n",
        "password = getpass()\n"
      ]
    },
    {
      "cell_type": "code",
      "source": [
        "# start Spark \n",
        "spark = SparkSession.builder.appName(\"AmazonReviews\").config(\"spark.driver.extraClassPath\",\"/content/postgresql-42.2.16.jar\").getOrCreate()\n",
        "\n",
        "# Configure settings for RDS\n",
        "mode = \"append\"\n",
        "jdbc_url=\"jdbc:postgresql://amazon-vine-analysis.comqyjfkggk2.us-west-2.rds.amazonaws.com:5432/postgres\"\n",
        "config = {\"user\":\"postgres\",\n",
        "          \"password\": password,\n",
        "          \"driver\":\"org.postgresql.Driver\"}\n"
      ],
      "metadata": {
        "id": "QV6hGrXlWvTB"
      },
      "execution_count": null,
      "outputs": []
    },
    {
      "cell_type": "markdown",
      "source": [
        "# Deliverable 2: Determine Bias of Vine member reviews\n",
        "Is any bias towards reviews that were written as part of the Vine program?  \n",
        " - Determine if having a paid Vine review makes a difference in the percentage of 5-star reviews."
      ],
      "metadata": {
        "id": "q8SgZF65XI7X"
      }
    },
    {
      "cell_type": "code",
      "source": [
        "# pull the vine table from the SQL database on AWS for this analysis\n",
        "vine_table = spark.read.jdbc(url=jdbc_url, table=\"vine_table\", properties=config)\n",
        "vine_table.createOrReplaceTempView(\"vine_table\")\n",
        "\n",
        "# display the row count and the first 10 rows\n",
        "spark.sql(\"SELECT COUNT(*) AS row_count FROM vine_table;\").show()\n",
        "vine_table.show(10)\n"
      ],
      "metadata": {
        "id": "z4Tyg7vjW-zE"
      },
      "execution_count": null,
      "outputs": []
    },
    {
      "cell_type": "code",
      "source": [
        "# create a table with products that have enough votes to run an analysis.\n",
        "# a minimum 20 total votes for any review.\n",
        "usable_vine_table = spark.sql(\"SELECT * FROM vine_table WHERE total_votes > 19;\")\n",
        "usable_vine_table.createOrReplaceTempView(\"usable_vine_table\")\n",
        "\n",
        "# display the row count and the first 10 rows\n",
        "spark.sql(\"SELECT COUNT(*) AS row_count FROM usable_vine_table;\").show()\n",
        "usable_vine_table.show(10)"
      ],
      "metadata": {
        "id": "TR1Xs844Xb6G"
      },
      "execution_count": null,
      "outputs": []
    },
    {
      "cell_type": "code",
      "source": [
        "# filter usable_vine_table for where helpful votes is atleast 50% of the total votes\n",
        "helpful_votes_table = spark.sql(\"SELECT * FROM usable_vine_table WHERE (helpful_votes/total_votes) <= 0.5;\")\n",
        "helpful_votes_table.createOrReplaceTempView(\"helpful_votes_table\")\n",
        "\n",
        "# display the row count and the first 10 rows\n",
        "spark.sql(\"select count(*) as row_count from helpful_votes_table;\").show()\n",
        "helpful_votes_table.show(10)"
      ],
      "metadata": {
        "id": "nr-e8AcvXieB"
      },
      "execution_count": null,
      "outputs": []
    },
    {
      "cell_type": "code",
      "source": [
        "# filter usable_vine_reviews for only vine member reviews\n",
        "vine_reviews_table = spark.sql(\"SELECT * FROM usable_vine_table WHERE vine == 'Y' ;\")\n",
        "vine_reviews_table.createOrReplaceTempView(\"vine_reviews_table\")\n",
        "\n",
        "# display the row count and the first 10 rows\n",
        "spark.sql(\"SELECT COUNT(*) AS row_count FROM vine_reviews_table;\").show()\n",
        "vine_reviews_table.show(10)\n"
      ],
      "metadata": {
        "id": "395jtG0_YTjO"
      },
      "execution_count": null,
      "outputs": []
    },
    {
      "cell_type": "code",
      "source": [
        "# filter usable reviews for only non-vine member reviews\n",
        "not_member_reviews_table = spark.sql(\"SELECT * FROM usable_vine_table WHERE vine =='N';\")\n",
        "not_member_reviews_table.createOrReplaceTempView(\"not_member_reviews_table\")\n",
        "spark.sql(\"SELECT COUNT(*) AS row_count FROM not_member_reviews_table;\").show()\n",
        "not_member_reviews_table.show(10)"
      ],
      "metadata": {
        "id": "_SWBelKCYcF1"
      },
      "execution_count": null,
      "outputs": []
    },
    {
      "cell_type": "code",
      "source": [
        "# usable reviews summary table\n",
        "spark.sql(\"\"\"SELECT (SELECT COUNT(*) FROM usable_vine_table) AS usable_reviews, \n",
        "                    (SELECT COUNT(*) FROM usable_vine_table WHERE star_rating == 5) AS total_usable_5_star_reviews,\n",
        "                    (SELECT COUNT(*) FROM vine_reviews_table WHERE (star_rating == 5)) AS total_usable_vine_5_star,\n",
        "                    ((SELECT COUNT(*) FROM vine_reviews_table WHERE (star_rating == 5))/(SELECT COUNT(*) FROM usable_vine_table)) AS vine_%_5_star\n",
        "                    (SELECT COUNT(*) FROM not_member_reviews_table WHERE (star_rating == 5)) AS total_usable_not_vine_5_star\n",
        "                    ((SELECT COUNT(*) FROM not_member_reviews_table WHERE (star_rating == 5))/(SELECT COUNT(*) FROM vine_reviews_table WHERE (star_rating == 5))) AS not_vine_%_5_star\n",
        ";\"\"\").show()"
      ],
      "metadata": {
        "id": "q6gF2nCyYfTX"
      },
      "execution_count": null,
      "outputs": []
    },
    {
      "cell_type": "code",
      "source": [
        "# total summary table\n",
        "spark.sql(\"\"\"SELECT (SELECT COUNT(*) FROM vine_table) AS total_reviews, \n",
        "                    (SELECT COUNT(*) FROM vine_table WHERE star_rating == 5) AS total_5_star_reviews,\n",
        "                    (SELECT COUNT(*) FROM vine_table WHERE (star_rating == 5) AND (vine == 'Y')) AS total_vine_5_star,\n",
        "                    ((SELECT COUNT(*) FROM vine_table WHERE (star_rating == 5) AND (vine == 'Y'))/(SELECT COUNT(*) FROM vine_table))*100 + '%' AS vine_%_5_star\n",
        "                    (SELECT COUNT(*) FROM vine_table WHERE (star_rating == 5) AND (vine == 'N')) AS total_not_vine_5_star\n",
        "                    ((SELECT COUNT(*) FROM vine_table WHERE (star_rating == 5) AND (vine == 'N'))/(SELECT COUNT(*) FROM vine_table))*100 + '%' AS not_vine_%_5_star\n",
        ";\"\"\").show()\n"
      ],
      "metadata": {
        "id": "by-Im_ezYkF2"
      },
      "execution_count": null,
      "outputs": []
    },
    {
      "cell_type": "markdown",
      "source": [
        "Based on the two summary tables above I would say there is not a bias towards the vine members based soley on the reviews, in fact I would make the opposite claim. Next lets check to see if there is a bias for vine members when you include the products aswell."
      ],
      "metadata": {
        "id": "8nEWPnbJYpll"
      }
    },
    {
      "cell_type": "code",
      "source": [
        "# import the review_id_table to join the analysis\n",
        "review_id_table = spark.read.jdbc(url=jdbc_url, table=\"review_id_table\", properties=config)\n",
        "review_id_table.createOrReplaceTempView(\"review_id_table\")\n",
        "review_id_table.show(10)"
      ],
      "metadata": {
        "colab": {
          "base_uri": "https://localhost:8080/"
        },
        "id": "5-LZ4JIrYujg",
        "outputId": "87ba9f8f-d3f1-4706-f97f-f0b9e78d1201"
      },
      "execution_count": 11,
      "outputs": [
        {
          "output_type": "stream",
          "name": "stdout",
          "text": [
            "+--------------+-----------+----------+--------------+-----------+\n",
            "|     review_id|customer_id|product_id|product_parent|review_date|\n",
            "+--------------+-----------+----------+--------------+-----------+\n",
            "|R3BFCCY087FHCZ|   39647090|B005B8DRVU|     322065043| 2014-10-17|\n",
            "| RGEV9ZHM58A8S|   13165573|B00002SW9Z|     306819164| 2014-10-17|\n",
            "|R2W7Z9I9ZTOPR1|    6822230|B00NCA8VJC|     417080633| 2014-10-17|\n",
            "|R2YEKMA2HDOEHN|   23693692|B002BCOC3G|     424917491| 2014-10-17|\n",
            "|R3IMVI8568X6QJ|   11701832|B00DP6Q1L8|     654246495| 2014-10-17|\n",
            "|R2DVQS6WXF6RM0|   27604638|B00F4H2N3G|     982274353| 2014-10-17|\n",
            "|R1FT1DU18JEZ1Z|    2943285|B00BGA9ZZ4|     307251827| 2014-10-17|\n",
            "|R37CTBJNQ0S1I0|   45171788|B005EZ5GUU|     664089138| 2014-10-17|\n",
            "|R1AO4UUJ1506UQ|   46709185|B00GANWVJE|     511800795| 2014-10-17|\n",
            "|R3D813I5LEUVLN|   52443880|B0049LPV7S|     840743636| 2014-10-17|\n",
            "+--------------+-----------+----------+--------------+-----------+\n",
            "only showing top 10 rows\n",
            "\n"
          ]
        }
      ]
    },
    {
      "cell_type": "code",
      "source": [
        "spark.sql(\"\"\"SELECT vine.*, review.product_id\n",
        "             FROM usable_vine_table AS vine\n",
        "             JOIN review_id_table AS review ON review.review_id == vine.review_id \n",
        "             ;\"\"\").show(10)"
      ],
      "metadata": {
        "colab": {
          "base_uri": "https://localhost:8080/"
        },
        "id": "gj7MOSlZY4K2",
        "outputId": "26b35e5c-c10e-41e9-e1ac-bbac7f0796f7"
      },
      "execution_count": 18,
      "outputs": [
        {
          "output_type": "stream",
          "name": "stdout",
          "text": [
            "+--------------+-----------+-------------+-----------+----+-----------------+----------+\n",
            "|     review_id|star_rating|helpful_votes|total_votes|vine|verified_purchase|product_id|\n",
            "+--------------+-----------+-------------+-----------+----+-----------------+----------+\n",
            "| RWL8NELB9YVUK|          1|           12|         21|   N|                N|B00YO2PRPS|\n",
            "|R35SW52TDDF87S|          1|          158|        299|   N|                N|B00GLZQO30|\n",
            "|R22X5WVKP9ZS3K|          5|           10|         23|   N|                Y|B00J48MUS4|\n",
            "| R1ZB12NQC1BQ8|          1|           13|         46|   N|                Y|B00KVR4HEC|\n",
            "|R26I6J47HE2PEN|          4|          140|        162|   N|                N|B00J48C36S|\n",
            "|R3OQYM8TIVVAOR|          5|           27|         30|   N|                Y|B00ND0EBP4|\n",
            "|R3UMIE11UREPV8|          1|           17|         26|   N|                N|B00JDOX2PE|\n",
            "|R2RQBEFRD5W6HP|          1|           10|         24|   N|                Y|B00CJXYTGM|\n",
            "|R2MT86YP52BQ4N|          1|            8|         20|   N|                N|B00BGA9WK2|\n",
            "|R3EFO5L1DNBXXB|          1|           16|         22|   N|                N|B00BGA9Y3W|\n",
            "+--------------+-----------+-------------+-----------+----+-----------------+----------+\n",
            "only showing top 10 rows\n",
            "\n"
          ]
        }
      ]
    },
    {
      "cell_type": "code",
      "source": [],
      "metadata": {
        "id": "Hn9yAuzJZPD7"
      },
      "execution_count": null,
      "outputs": []
    }
  ]
}